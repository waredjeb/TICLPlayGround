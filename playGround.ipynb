{
 "cells": [
  {
   "cell_type": "code",
   "execution_count": 1,
   "id": "b1abf119-2167-41f4-b5d6-09d7cb933fda",
   "metadata": {},
   "outputs": [
    {
     "name": "stdout",
     "output_type": "stream",
     "text": [
      "Found 108 ROOT files\n"
     ]
    },
    {
     "name": "stderr",
     "output_type": "stream",
     "text": [
      "reading: 100%|██████████| 10/10 [03:16<00:00, 19.68s/it]\n"
     ]
    },
    {
     "name": "stdout",
     "output_type": "stream",
     "text": [
      "Trees read: ['clusters', 'ticlTrackstersCLUE3DHigh', 'ticlTracksterLinks', 'ticlCandidate', 'ticlTracksterLinksSuperclusteringDNN', 'simtrackstersSC', 'simtrackstersCP', 'candidates', 'TICLGraph', 'associations', 'simTICLCandidate']\n",
      "Wrote parquet_out/clusters.parquet\n",
      "Wrote parquet_out/ticlTrackstersCLUE3DHigh.parquet\n",
      "Wrote parquet_out/ticlTracksterLinks.parquet\n",
      "Wrote parquet_out/ticlCandidate.parquet\n",
      "Wrote parquet_out/ticlTracksterLinksSuperclusteringDNN.parquet\n",
      "Wrote parquet_out/simtrackstersSC.parquet\n",
      "Wrote parquet_out/simtrackstersCP.parquet\n",
      "Wrote parquet_out/candidates.parquet\n",
      "Wrote parquet_out/TICLGraph.parquet\n",
      "Wrote parquet_out/associations.parquet\n",
      "Wrote parquet_out/simTICLCandidate.parquet\n"
     ]
    }
   ],
   "source": [
    "import uproot, numpy as np, awkward as ak\n",
    "from glob import glob\n",
    "from tqdm import tqdm\n",
    "from collections import defaultdict\n",
    "import awkward as ak\n",
    "import os, pathlib\n",
    "import ROOT\n",
    "%load_ext autoreload\n",
    "%autoreload 2\n",
    "\n",
    "from utils import *\n",
    "\n",
    "\n",
    "inputFolder = \"/eos/cms/store/group/dpg_hgcal/comm_hgcal/wredjeb/ForGNN/MultiParticle_5_10_0PU/CMSSW_15_1_X/D110/CloseByMP_ForGNN_0PU/histo\"\n",
    "fileList    = glob(f\"{inputFolder}/*.root\")\n",
    "print(\"Found\", len(fileList), \"ROOT files\")\n",
    "\n",
    "tmp_store = defaultdict(list)\n",
    "\n",
    "for f in tqdm(fileList[:10], desc=\"reading\"):\n",
    "    with uproot.open(f)[\"ticlDumper\"] as tdir:\n",
    "        for name, obj in tdir.items():\n",
    "            if isinstance(obj, uproot.behaviors.TTree.TTree):\n",
    "                key = name.split(\";\")[0]\n",
    "                tmp_store[key].append(obj.arrays(library=\"ak\"))\n",
    "\n",
    "dump_data = {name: ak.concatenate(arr_list) for name, arr_list in tmp_store.items()}\n",
    "print(\"Trees read:\", list(dump_data))\n",
    "\n",
    "\n",
    "outdir = pathlib.Path(\"parquet_out\")\n",
    "outdir.mkdir(exist_ok=True)\n",
    "\n",
    "for name, arr in dump_data.items():\n",
    "    path = outdir / f\"{name}.parquet\"\n",
    "    ak.to_parquet(arr, path, compression=None)\n",
    "    print(\"Wrote\", path)\n"
   ]
  },
  {
   "cell_type": "code",
   "execution_count": 4,
   "id": "a2cbbc77-ba10-4807-abc6-1aedd79156ba",
   "metadata": {},
   "outputs": [
    {
     "name": "stdout",
     "output_type": "stream",
     "text": [
      "The autoreload extension is already loaded. To reload it, use:\n",
      "  %reload_ext autoreload\n"
     ]
    },
    {
     "ename": "AssertionError",
     "evalue": "",
     "output_type": "error",
     "traceback": [
      "\u001b[0;31m---------------------------------------------------------------------------\u001b[0m",
      "\u001b[0;31mAssertionError\u001b[0m                            Traceback (most recent call last)",
      "\u001b[0;32m/tmp/ipykernel_506/3888753858.py\u001b[0m in \u001b[0;36m<module>\u001b[0;34m\u001b[0m\n\u001b[1;32m     22\u001b[0m \u001b[0msimTrackstersCP\u001b[0m \u001b[0;34m=\u001b[0m \u001b[0mdump_data\u001b[0m\u001b[0;34m[\u001b[0m\u001b[0;34m\"simtrackstersCP\"\u001b[0m\u001b[0;34m]\u001b[0m\u001b[0;34m\u001b[0m\u001b[0;34m\u001b[0m\u001b[0m\n\u001b[1;32m     23\u001b[0m \u001b[0massociations\u001b[0m \u001b[0;34m=\u001b[0m \u001b[0mdump_data\u001b[0m\u001b[0;34m[\u001b[0m\u001b[0;34m\"associations\"\u001b[0m\u001b[0;34m]\u001b[0m\u001b[0;34m\u001b[0m\u001b[0;34m\u001b[0m\u001b[0m\n\u001b[0;32m---> 24\u001b[0;31m \u001b[0;32massert\u001b[0m \u001b[0mlen\u001b[0m\u001b[0;34m(\u001b[0m\u001b[0massociations\u001b[0m\u001b[0;34m)\u001b[0m \u001b[0;34m==\u001b[0m \u001b[0mlen\u001b[0m\u001b[0;34m(\u001b[0m\u001b[0msimTrackstersCP\u001b[0m\u001b[0;34m)\u001b[0m\u001b[0;34m\u001b[0m\u001b[0;34m\u001b[0m\u001b[0m\n\u001b[0m",
      "\u001b[0;31mAssertionError\u001b[0m: "
     ]
    }
   ],
   "source": [
    "#If files have been already dumped in parquet format\n",
    "import uproot, numpy as np, awkward as ak\n",
    "from glob import glob\n",
    "from tqdm import tqdm\n",
    "from collections import defaultdict\n",
    "import awkward as ak\n",
    "import os, pathlib\n",
    "import ROOT\n",
    "%load_ext autoreload\n",
    "%autoreload 2\n",
    "\n",
    "from utils import *\n",
    "\n",
    "parq_dir   = pathlib.Path(\"parquet_out\")\n",
    "parq_files = parq_dir.glob(\"*.parquet\")           \n",
    "\n",
    "dump_data = {p.stem: ak.from_parquet(p) for p in parq_files}\n",
    "\n",
    "# ── usage ────────────────────────────────────────────────────────────────\n",
    "ticlTrackstersCLUE3D = dump_data[\"ticlTrackstersCLUE3DHigh\"]\n",
    "ticlCandidate = dump_data[\"ticlCandidate\"]\n",
    "simTrackstersCP = dump_data[\"simtrackstersCP\"] \n",
    "associations = dump_data[\"associations\"]\n",
    "assert len(associations) == len(simTrackstersCP)"
   ]
  },
  {
   "cell_type": "code",
   "execution_count": 8,
   "id": "79c3d9e1-9a91-41ae-bfaa-e7e6be1f1f96",
   "metadata": {},
   "outputs": [
    {
     "name": "stderr",
     "output_type": "stream",
     "text": [
      "100%|██████████| 10/10 [00:08<00:00,  1.21it/s]\n"
     ]
    }
   ],
   "source": [
    "from tqdm import tqdm\n",
    "sim_to_reco_tables = []\n",
    "reco_to_sim_tables = []\n",
    "all_merged_reco = []\n",
    "\n",
    "rng = random.Random(123)\n",
    "for ev in tqdm(range(10)):\n",
    "    reco_ev = ticlCandidate[ev]\n",
    "    sim_ev  = simTrackstersCP[ev]\n",
    "    merged_reco = [Trackster.from_event_all(reco_ev, i) for i in range(len(reco_ev.raw_energy))]\n",
    "    all_merged_reco.append(merged_reco)\n",
    "    if len(sim_ev.raw_energy) == 0:\n",
    "        score_tables.append([])\n",
    "        continue\n",
    "    # merged_reco = random_group_merging(reco_ev, rng=rng)\n",
    "    sim_to_reco_tables.append(\n",
    "        compute_sim_to_reco_scores(sim_ev, merged_reco, best_only=True)\n",
    "    )\n",
    "    reco_to_sim_tables.append(\n",
    "        compute_reco_to_sim_scores(sim_ev, merged_reco, best_only=False)\n",
    "    )\n",
    "    all_merged_reco.append(merged_reco)\n",
    "\n",
    "data_efficiency = aggregate_for_efficiency(simTrackstersCP, sim_to_reco_tables,\n",
    "                           score_threshold=0.6)\n",
    "data_merged = aggregate_for_merge(all_merged_reco, reco_to_sim_tables,\n",
    "                           score_threshold=0.6)\n",
    "data_fake = aggregate_for_fake(all_merged_reco, reco_to_sim_tables,\n",
    "                           score_threshold=0.6)\n"
   ]
  },
  {
   "cell_type": "code",
   "execution_count": null,
   "id": "b9131455-37a0-470b-a19b-25035e790f18",
   "metadata": {},
   "outputs": [],
   "source": []
  },
  {
   "cell_type": "code",
   "execution_count": null,
   "id": "e87308fc-0bef-46e4-a6b5-46ca60e45941",
   "metadata": {},
   "outputs": [],
   "source": [
    "#My Algo\n",
    "\n",
    "# ------------------------------------------------------------\n",
    "# random group merge of Reco tracksters in one event\n",
    "# ------------------------------------------------------------\n",
    "def random_group_merging(event_rec, *, max_group_size=3, rng=None):\n",
    "    if rng is None:\n",
    "        rng = random\n",
    "    n = len(event_rec.raw_energy)\n",
    "    if n == 0:\n",
    "        return []\n",
    "\n",
    "    idxs = list(range(n))\n",
    "    rng.shuffle(idxs)\n",
    "\n",
    "    groups, cur = [], 0\n",
    "    while cur < n:\n",
    "        g = min(rng.randint(1, max_group_size), n - cur)\n",
    "        groups.append(idxs[cur:cur + g])\n",
    "        cur += g\n",
    "\n",
    "    out = []\n",
    "    for g in groups:\n",
    "        trklist = [Trackster.from_event_all(event_rec, i) for i in g]\n",
    "        out.append(trklist[0] if len(trklist) == 1\n",
    "                   else functools.reduce(lambda a, b: a.merge(b), trklist))\n",
    "    return out\n"
   ]
  },
  {
   "cell_type": "code",
   "execution_count": null,
   "id": "a27070c3-2935-4791-b591-531f3bc104cf",
   "metadata": {},
   "outputs": [],
   "source": [
    "from tqdm import tqdm\n",
    "sim_to_reco_tables = []\n",
    "reco_to_sim_tables = []\n",
    "all_merged_reco = []\n",
    "\n",
    "rng = random.Random(123)\n",
    "for ev in tqdm(range(10)):\n",
    "    reco_ev = ticlTrackstersCLUE3D[ev]\n",
    "    sim_ev  = simTrackstersCP[ev]\n",
    "    if len(sim_ev.raw_energy) == 0:\n",
    "        score_tables.append([])\n",
    "        continue\n",
    "    merged_reco = random_group_merging(reco_ev, rng=rng)\n",
    "    sim_to_reco_tables.append(\n",
    "        compute_sim_to_reco_scores(sim_ev, merged_reco, best_only=True)\n",
    "    )\n",
    "    reco_to_sim_tables.append(\n",
    "        compute_reco_to_sim_scores(sim_ev, merged_reco, best_only=False)\n",
    "    )\n",
    "    all_merged_reco.append(merged_reco)\n",
    "\n",
    "data_efficiency = aggregate_for_efficiency(simTrackstersCP, sim_to_reco_tables,\n",
    "                           score_threshold=0.6)\n",
    "data_merged = aggregate_for_merge(all_merged_reco, reco_to_sim_tables,\n",
    "                           score_threshold=0.6)\n",
    "data_fake = aggregate_for_fake(all_merged_reco, reco_to_sim_tables,\n",
    "                           score_threshold=0.6)\n"
   ]
  },
  {
   "cell_type": "code",
   "execution_count": null,
   "id": "ae1436c7",
   "metadata": {},
   "outputs": [],
   "source": [
    "plot_all_metrics(\n",
    "    data_efficiency,\n",
    "    data_merged,\n",
    "    data_fake,\n",
    "    out_file=\"ticl_metrics_grid.pdf\"   # omit if you don’t need a file\n",
    ")"
   ]
  }
 ],
 "metadata": {
  "@webio": {
   "lastCommId": null,
   "lastKernelId": null
  },
  "kernelspec": {
   "display_name": "Python 3",
   "language": "python",
   "name": "python3"
  },
  "language_info": {
   "codemirror_mode": {
    "name": "ipython",
    "version": 3
   },
   "file_extension": ".py",
   "mimetype": "text/x-python",
   "name": "python",
   "nbconvert_exporter": "python",
   "pygments_lexer": "ipython3",
   "version": "3.11.9"
  }
 },
 "nbformat": 4,
 "nbformat_minor": 5
}
